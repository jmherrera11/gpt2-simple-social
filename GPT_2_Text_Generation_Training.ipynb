{
  "nbformat": 4,
  "nbformat_minor": 0,
  "metadata": {
    "colab": {
      "name": "GPT-2 Text Generation Training",
      "provenance": [],
      "collapsed_sections": [],
      "toc_visible": true,
      "include_colab_link": true
    },
    "kernelspec": {
      "name": "python3",
      "display_name": "Python 3"
    },
    "accelerator": "GPU"
  },
  "cells": [
    {
      "cell_type": "markdown",
      "metadata": {
        "id": "view-in-github",
        "colab_type": "text"
      },
      "source": [
        "<a href=\"https://colab.research.google.com/github/shaunakg/gpt2-simple-social/blob/master/GPT_2_Text_Generation_Training.ipynb\" target=\"_parent\"><img src=\"https://colab.research.google.com/assets/colab-badge.svg\" alt=\"Open In Colab\"/></a>"
      ]
    },
    {
      "cell_type": "markdown",
      "metadata": {
        "id": "H7LoMj4GA4n_",
        "colab_type": "text"
      },
      "source": [
        "#  Train a GPT-2 Text-Generating Model w/ GPU For Free \n",
        "\n",
        "Original notebook by [Max Woolf](http://minimaxir.com)  \n",
        "\n",
        "Updated by [Shaunak G](https://github.com/shaunakg) with new features:\n",
        "- Allows download of social media posts for training in-house\n",
        "- Exposes machine learning and SM scraping vars to environment file\n",
        "- Slightly edited for runtime continuity (e.g Run All works fully)\n",
        "\n",
        "Retrain an advanced text generating neural network on any text dataset for free on a GPU using Collaboratory using `gpt-2-simple`. Scrape text from reddit, twitter or tumblr using the associated libraries and train the neural network with it.\n",
        "\n",
        "This notebook is also hosted at [this repository](https://github.com/shaunakg/gpt2-simple-social).\n",
        "\n",
        "For more about `gpt-2-simple`, you can visit [this GitHub repository](https://github.com/minimaxir/gpt-2-simple). You can also read the original creator's [blog post](https://minimaxir.com/2019/09/howto-gpt2/) for more information how to use this notebook.\n",
        "\n",
        "To get started:\n",
        "\n",
        "1. Copy this notebook to your Google Drive to keep it and save your changes. (File -> Save a Copy in Drive)\n",
        "2. Make sure you're running the notebook in Google Chrome.\n",
        "3. Run the cells below.  \n",
        "  \n",
        "*Note: some cells have been commented out for continuity when running all (Runtime -> Restart and Run All)*\n"
      ]
    },
    {
      "cell_type": "markdown",
      "metadata": {
        "id": "LkYYcbD0eR-W",
        "colab_type": "text"
      },
      "source": [
        "## Download posts from social media using API"
      ]
    },
    {
      "cell_type": "code",
      "metadata": {
        "id": "eXuajkkCfiuK",
        "colab_type": "code",
        "colab": {}
      },
      "source": [
        "!pip install -q python-dotenv pytumblr tweepy praw"
      ],
      "execution_count": 0,
      "outputs": []
    },
    {
      "cell_type": "code",
      "metadata": {
        "id": "REYCaI_Tecvc",
        "colab_type": "code",
        "colab": {}
      },
      "source": [
        "import os\n",
        "from os.path import join, dirname\n",
        "from dotenv import load_dotenv\n",
        "\n",
        "# Using .txt not .env because it allows editing in Google Colab - otherwise it would just download\n",
        "dotenv_path = 'config.txt'\n",
        "load_dotenv(dotenv_path)\n",
        "\n",
        "social_media = os.environ.get(\"social_platform\") # Supported: twitter, tumblr, reddit as string\n",
        "social_user = os.environ.get(\"social_user\") # User handle. Currently not supporting custom blog domains. Do not include @ or .tumblr.com. For reddit, this will fetch subreddit titles. Do not include /r/\n",
        "num_posts = int(os.environ.get(\"num_posts\")) # Number of posts/tweets/titles to fetch\n",
        "\n",
        "# The name of what each service calls its submission (e.g 'Tweets' for twitter)\n",
        "submission_name = \"tweets\" if social_media == \"twitter\" else \"post titles\" if social_media==\"reddit\" else \"blog posts\" if social_media == \"tumblr\" else \"data\"\n",
        "\n",
        "training_file_name = social_media + \"_\" + social_user + \"_training.txt\"\n",
        "\n",
        "if social_media == \"tumblr\":\n",
        "\n",
        "  import pytumblr\n",
        "\n",
        "  # Authenticate via OAuth\n",
        "  client = pytumblr.TumblrRestClient(\n",
        "    os.environ.get('tumblr_auth_1'),\n",
        "    os.environ.get('tumblr_auth_2'),\n",
        "    os.environ.get('tumblr_auth_3'),\n",
        "    os.environ.get('tumblr_auth_4')\n",
        "  )\n",
        "\n",
        "  blogposts = client.posts(social_user + \".tumblr.com\", type='text', reblog_info='false', filter='text', tag='dream', limit=num_posts)\n",
        "\n",
        "  with open(__tumblr_file_name, \"a+\") as writefile:\n",
        "    for i in blogposts['posts']:\n",
        "      writefile.write(i['body'] + '\\n')\n",
        "\n",
        "elif social_media == \"twitter\":\n",
        "\n",
        "  import tweepy\n",
        "\n",
        "  twitter_auth = tweepy.OAuthHandler(os.environ.get('twitter_consumer_key'), os.environ.get('twitter_consumer_secret'))\n",
        "  twitter_auth.set_access_token(os.environ.get('twitter_at_key'), os.environ.get('twitter_at_secret'))\n",
        "  print(\"Initialised twitter API\")\n",
        "\n",
        "  twitter_api = tweepy.API(twitter_auth)\n",
        "\n",
        "  with open(training_file_name, \"a+\") as writefile:\n",
        "    twitter_tweets = twitter_api.user_timeline(screen_name = social_user,count=num_posts)\n",
        "\n",
        "    for i in twitter_tweets:\n",
        "      writefile.write( i.text + \"\\n\" )\n",
        "\n",
        "  print(\"Written all posts on \" + social_media + \" by @\" + social_user + \" to \" + training_file_name)\n",
        "\n",
        "elif social_media == \"reddit\":\n",
        "  import praw\n",
        "\n",
        "  reddit = praw.Reddit(client_id=os.environ.get(\"reddit_client_id\"),\n",
        "                      client_secret=os.environ.get(\"reddit_client_secret\"),\n",
        "                      user_agent=os.environ.get(\"reddit_user_agent\"))\n",
        "\n",
        "  with open(training_file_name, \"a+\") as writefile:\n",
        "    for submission in reddit.subreddit(social_user).top(\"all\", limit=num_posts):\n",
        "        writefile.write(submission.title + \"\\n\")\n",
        "\n",
        "  print(\"Written the 100 top post titles in reddit's r/\" + social_user + \" to \" + training_file_name)\n",
        "\n",
        "else:\n",
        "  print(\"Unsupported or unset social media platform, using non_social_training_file path...\")\n",
        "  training_file_name = os.environ.get(\"non_social_training_file_path\")"
      ],
      "execution_count": 0,
      "outputs": []
    },
    {
      "cell_type": "code",
      "metadata": {
        "id": "bPVpzGVGfuVV",
        "colab_type": "code",
        "colab": {}
      },
      "source": [
        ""
      ],
      "execution_count": 0,
      "outputs": []
    },
    {
      "cell_type": "markdown",
      "metadata": {
        "id": "cKAk2HhQeW_h",
        "colab_type": "text"
      },
      "source": [
        "## Import ML dependencies and setup configuration vars"
      ]
    },
    {
      "cell_type": "code",
      "metadata": {
        "id": "KBkpRgBCBS2_",
        "colab_type": "code",
        "colab": {}
      },
      "source": [
        "%tensorflow_version 1.x\n",
        "!pip install -q gpt-2-simple\n",
        "import gpt_2_simple as gpt2\n",
        "from datetime import datetime\n",
        "from google.colab import files\n",
        "\n",
        "# Setup variables from config file\n",
        "ml_model_name = os.environ.get(\"model_name\") # Usually 124M for mix between accuracy and speed\n",
        "ml_training_steps = int(os.environ.get(\"training_steps\")) # Usually 100\n",
        "ml_generation_length = int(os.environ.get(\"generation_length\")) # Usually 1000\n",
        "ml_temp = float(os.environ.get(\"generation_temperature\")) # How 'crazy' the output is. Recommend between 0.7-1 for useful results or something like 2 if you wanna have fun.\n",
        "ml_samples = int(os.environ.get(\"generation_samples\")) # Usually 100"
      ],
      "execution_count": 0,
      "outputs": []
    },
    {
      "cell_type": "markdown",
      "metadata": {
        "id": "Bj2IJLHP3KwE",
        "colab_type": "text"
      },
      "source": [
        "## GPU\n",
        "\n",
        "Colaboratory uses either a Nvidia T4 GPU or an Nvidia K80 GPU. The T4 is slightly faster than the old K80 for training GPT-2, and has more memory allowing you to train the larger GPT-2 models and generate more text.\n",
        "\n",
        "You can verify which GPU is active by running the cell below."
      ]
    },
    {
      "cell_type": "code",
      "metadata": {
        "id": "sUmTooTW3osf",
        "colab_type": "code",
        "colab": {}
      },
      "source": [
        "!nvidia-smi"
      ],
      "execution_count": 0,
      "outputs": []
    },
    {
      "cell_type": "markdown",
      "metadata": {
        "id": "0wXB05bPDYxS",
        "colab_type": "text"
      },
      "source": [
        "## Downloading GPT-2\n",
        "\n",
        "If you're retraining a model on new text, you need to download the GPT-2 model first. \n",
        "\n",
        "There are three released sizes of GPT-2:\n",
        "\n",
        "* `124M` (default): the \"small\" model, 500MB on disk.\n",
        "* `355M`: the \"medium\" model, 1.5GB on disk.\n",
        "* `774M`: the \"large\" model, cannot currently be finetuned with Colaboratory but can be used to generate text from the pretrained model (see later in Notebook)\n",
        "* `1558M`: the \"extra large\", true model. Will not work if a K80 GPU is attached to the notebook. (like `774M`, it cannot be finetuned).\n",
        "\n",
        "Larger models have more knowledge, but take longer to finetune and longer to generate text. You can specify which base model to use by changing `model_name` in the cells below.\n",
        "\n",
        "The next cell downloads it from Google Cloud Storage and saves it in the Colaboratory VM at `/models/<model_name>`.\n",
        "\n",
        "This model isn't permanently saved in the Colaboratory VM; you'll have to redownload it if you want to retrain it at a later time."
      ]
    },
    {
      "cell_type": "code",
      "metadata": {
        "id": "P8wSlgXoDPCR",
        "colab_type": "code",
        "colab": {}
      },
      "source": [
        "gpt2.download_gpt2(model_name=ml_model_name)"
      ],
      "execution_count": 0,
      "outputs": []
    },
    {
      "cell_type": "markdown",
      "metadata": {
        "id": "N8KXuKWzQSsN",
        "colab_type": "text"
      },
      "source": [
        "## Mounting Google Drive\n",
        "\n",
        "The best way to get input text to-be-trained into the Colaboratory VM, and to get the trained model *out* of Colaboratory, is to route it through Google Drive *first*.\n",
        "\n",
        "Running this cell (which will only work in Colaboratory) will mount your personal Google Drive in the VM, which later cells can use to get data in/out. (it will ask for an auth code; that auth is not saved anywhere)"
      ]
    },
    {
      "cell_type": "code",
      "metadata": {
        "id": "puq4iC6vUAHc",
        "colab_type": "code",
        "colab": {}
      },
      "source": [
        "# This requires user input and therefore interrupts the program.\n",
        "# gpt2.mount_gdrive()"
      ],
      "execution_count": 0,
      "outputs": []
    },
    {
      "cell_type": "markdown",
      "metadata": {
        "id": "BT__brhBCvJu",
        "colab_type": "text"
      },
      "source": [
        "## Uploading a Text File to be Trained to Colaboratory\n",
        "\n",
        "In the Colaboratory Notebook sidebar on the left of the screen, select *Files*. From there you can upload files:\n",
        "\n",
        "![alt text](https://i.imgur.com/TGcZT4h.png)\n",
        "\n",
        "Upload **any smaller text file**  (<10 MB) and update the file name in the cell below, then run the cell."
      ]
    },
    {
      "cell_type": "code",
      "metadata": {
        "id": "6OFnPCLADfll",
        "colab_type": "code",
        "colab": {}
      },
      "source": [
        "file_name = training_file_name"
      ],
      "execution_count": 0,
      "outputs": []
    },
    {
      "cell_type": "markdown",
      "metadata": {
        "id": "HeeSKtNWUedE",
        "colab_type": "text"
      },
      "source": [
        "If your text file is larger than 10MB, it is recommended to upload that file to Google Drive first, then copy that file from Google Drive to the Colaboratory VM."
      ]
    },
    {
      "cell_type": "code",
      "metadata": {
        "id": "-Z6okFD8VKtS",
        "colab_type": "code",
        "colab": {}
      },
      "source": [
        "# Don't use Google Drive ATM\n",
        "# gpt2.copy_file_from_gdrive(file_name)"
      ],
      "execution_count": 0,
      "outputs": []
    },
    {
      "cell_type": "markdown",
      "metadata": {
        "id": "LdpZQXknFNY3",
        "colab_type": "text"
      },
      "source": [
        "## Finetune GPT-2\n",
        "\n",
        "The next cell will start the actual finetuning of GPT-2. It creates a persistent TensorFlow session which stores the training config, then runs the training for the specified number of `steps`. (to have the finetuning run indefinitely, set `steps = -1`)\n",
        "\n",
        "The model checkpoints will be saved in `/checkpoint/run1` by default. The checkpoints are saved every 500 steps (can be changed) and when the cell is stopped.\n",
        "\n",
        "The training might time out after 4ish hours; make sure you end training and save the results so you don't lose them!\n",
        "\n",
        "**IMPORTANT NOTE:** If you want to rerun this cell, **restart the VM first** (Runtime -> Restart Runtime). You will need to rerun imports but not recopy files.\n",
        "\n",
        "Other optional-but-helpful parameters for `gpt2.finetune`:\n",
        "\n",
        "\n",
        "*  **`restore_from`**: Set to `fresh` to start training from the base GPT-2, or set to `latest` to restart training from an existing checkpoint.\n",
        "* **`sample_every`**: Number of steps to print example output\n",
        "* **`print_every`**: Number of steps to print training progress.\n",
        "* **`learning_rate`**:  Learning rate for the training. (default `1e-4`, can lower to `1e-5` if you have <1MB input data)\n",
        "*  **`run_name`**: subfolder within `checkpoint` to save the model. This is useful if you want to work with multiple models (will also need to specify  `run_name` when loading the model)\n",
        "* **`overwrite`**: Set to `True` if you want to continue finetuning an existing model (w/ `restore_from='latest'`) without creating duplicate copies. "
      ]
    },
    {
      "cell_type": "code",
      "metadata": {
        "id": "aeXshJM-Cuaf",
        "colab_type": "code",
        "colab": {}
      },
      "source": [
        "sess = gpt2.start_tf_sess()\n",
        "\n",
        "gpt2.finetune(\n",
        "                sess,\n",
        "                dataset=file_name,\n",
        "                model_name=ml_model_name,\n",
        "                steps=ml_training_steps,\n",
        "                restore_from='fresh',\n",
        "                run_name='run1',\n",
        "                print_every=1,\n",
        "                sample_every=25,\n",
        "                save_every=25\n",
        "              )"
      ],
      "execution_count": 0,
      "outputs": []
    },
    {
      "cell_type": "markdown",
      "metadata": {
        "id": "IXSuTNERaw6K",
        "colab_type": "text"
      },
      "source": [
        "After the model is trained, you can copy the checkpoint folder to your own Google Drive.\n",
        "\n",
        "If you want to download it to your personal computer, it's strongly recommended you copy it there first, then download from Google Drive. The checkpoint folder is copied as a `.rar` compressed file; you can download it and uncompress it locally.  \n",
        "\n",
        "*Notice: this is disabled because it is slow and not required for the main function of the program*"
      ]
    },
    {
      "cell_type": "code",
      "metadata": {
        "id": "VHdTL8NDbAh3",
        "colab_type": "code",
        "colab": {}
      },
      "source": [
        "# Uncomment if you want to copy the checkpoint to Google Drive. Currently, functionality is disabled because it is very slow.\n",
        "# gpt2.copy_checkpoint_to_gdrive(run_name='run1')"
      ],
      "execution_count": 0,
      "outputs": []
    },
    {
      "cell_type": "markdown",
      "metadata": {
        "id": "qQJgV_b4bmzd",
        "colab_type": "text"
      },
      "source": [
        "You're done! Feel free to go to the **Generate Text From The Trained Model** section to generate text based on your retrained model."
      ]
    },
    {
      "cell_type": "markdown",
      "metadata": {
        "id": "pel-uBULXO2L",
        "colab_type": "text"
      },
      "source": [
        "## Load a Trained Model Checkpoint\n",
        "\n",
        "Running the next cell will copy the `.rar` checkpoint file from your Google Drive into the Colaboratory VM."
      ]
    },
    {
      "cell_type": "code",
      "metadata": {
        "id": "DCcx5u7sbPTD",
        "colab_type": "code",
        "colab": {}
      },
      "source": [
        "# This cell interrupts a full run. Uncomment if you want to load a checkpoint from Drive instead of training.\n",
        "# gpt2.copy_checkpoint_from_gdrive(run_name='run1')"
      ],
      "execution_count": 0,
      "outputs": []
    },
    {
      "cell_type": "markdown",
      "metadata": {
        "id": "RTa6zf3e_9gV",
        "colab_type": "text"
      },
      "source": [
        "The next cell will allow you to load the retrained model checkpoint + metadata necessary to generate text.\n",
        "\n",
        "**IMPORTANT NOTE:** If you want to rerun this cell, **restart the VM first** (Runtime -> Restart Runtime). You will need to rerun imports but not recopy files."
      ]
    },
    {
      "cell_type": "code",
      "metadata": {
        "id": "-fxL77nvAMAX",
        "colab_type": "code",
        "colab": {}
      },
      "source": [
        "# These cells interrupt a full run.\n",
        "# sess = gpt2.start_tf_sess()\n",
        "# gpt2.load_gpt2(sess, run_name='run1')"
      ],
      "execution_count": 0,
      "outputs": []
    },
    {
      "cell_type": "markdown",
      "metadata": {
        "id": "ClJwpF_ACONp",
        "colab_type": "text"
      },
      "source": [
        "## Generate Text From The Trained Model\n",
        "\n",
        "After you've trained the model or loaded a retrained model from checkpoint, you can now generate text. `generate` generates a single text from the loaded model."
      ]
    },
    {
      "cell_type": "code",
      "metadata": {
        "id": "4RNY6RBI9LmL",
        "colab_type": "code",
        "colab": {}
      },
      "source": [
        "# Uncomment if you want to generate inline\n",
        "# gpt2.generate(sess, run_name='run1')"
      ],
      "execution_count": 0,
      "outputs": []
    },
    {
      "cell_type": "markdown",
      "metadata": {
        "id": "oF4-PqF0Fl7R",
        "colab_type": "text"
      },
      "source": [
        "If you're creating an API based on your model and need to pass the generated text elsewhere, you can do `text = gpt2.generate(sess, return_as_list=True)[0]`\n",
        "\n",
        "You can also pass in a `prefix` to the generate function to force the text to start with a given character sequence and generate text from there (good if you add an indicator when the text starts).\n",
        "\n",
        "You can also generate multiple texts at a time by specifing `nsamples`. Unique to GPT-2, you can pass a `batch_size` to generate multiple samples in parallel, giving a massive speedup (in Colaboratory, set a maximum of 20 for `batch_size`).\n",
        "\n",
        "Other optional-but-helpful parameters for `gpt2.generate` and friends:\n",
        "\n",
        "*  **`length`**: Number of tokens to generate (default 1023, the maximum)\n",
        "* **`temperature`**: The higher the temperature, the crazier the text (default 0.7, recommended to keep between 0.7 and 1.0)\n",
        "* **`top_k`**: Limits the generated guesses to the top *k* guesses (default 0 which disables the behavior; if the generated output is super crazy, you may want to set `top_k=40`)\n",
        "* **`top_p`**: Nucleus sampling: limits the generated guesses to a cumulative probability. (gets good results on a dataset with `top_p=0.9`)\n",
        "* **`truncate`**: Truncates the input text until a given sequence, excluding that sequence (e.g. if `truncate='<|endoftext|>'`, the returned text will include everything before the first `<|endoftext|>`). It may be useful to combine this with a smaller `length` if the input texts are short.\n",
        "*  **`include_prefix`**: If using `truncate` and `include_prefix=False`, the specified `prefix` will not be included in the returned text."
      ]
    },
    {
      "cell_type": "code",
      "metadata": {
        "id": "8DKMc0fiej4N",
        "colab_type": "code",
        "colab": {}
      },
      "source": [
        "# gpt2.generate(sess,\n",
        "#               length=ml_generation_length,\n",
        "#               temperature=ml_temp,\n",
        "#               nsamples=1,\n",
        "#               batch_size=1\n",
        "#               )"
      ],
      "execution_count": 0,
      "outputs": []
    },
    {
      "cell_type": "markdown",
      "metadata": {
        "id": "zjjEN2Tafhl2",
        "colab_type": "text"
      },
      "source": [
        "For bulk generation, you can generate a large amount of text to a file and sort out the samples locally on your computer. The next cell will generate a generated text file with a unique timestamp.\n",
        "\n",
        "You can rerun the cells as many times as you want for even more generated texts!"
      ]
    },
    {
      "cell_type": "code",
      "metadata": {
        "id": "Fa6p6arifSL0",
        "colab_type": "code",
        "colab": {}
      },
      "source": [
        "notice_text = f\"--------------------------------------------------------------------------------------------------------\\nGPT2 Text Generation using https://github.com/minimaxir/gpt-2-simple and\\nhttps://github.com/shaunakg/gpt2-simple-social.\\n\\nNeural Network trained on {num_posts} {submission_name} by {social_user} on {social_media} (generation temperature set to {ml_temp}).\\n\\nNOTICE: Neither @minimaxir or @shaunakg, nor the developers of the ML models are liable for innappropriate or explicit content in the contents\\nof auto-generated text. Read and use at your own risk. Published under the MIT License\\n---------------------------------------------------------------------------------------------------------\\n\"\n",
        "gen_file = 'gpt2simple' + social_media + \"_\" + social_user + '_temp' + str(ml_temp) + \"_{:%Y%m%d_%H%M%S}.txt\".format(datetime.utcnow())\n",
        "\n",
        "gpt2.generate_to_file(\n",
        "                        sess,\n",
        "                        destination_path=gen_file,\n",
        "                        length=ml_generation_length,\n",
        "                        temperature=ml_temp,\n",
        "                        nsamples=ml_samples,\n",
        "                        batch_size=20\n",
        "                      )\n",
        "\n",
        "# Using a method from https://stackoverflow.com/a/5917395 to prepend to the beginning of the file\n",
        "with open(gen_file, 'r+') as f:\n",
        "  content = f.read()\n",
        "  f.seek(0, 0)\n",
        "  f.write(notice_text + content)"
      ],
      "execution_count": 0,
      "outputs": []
    },
    {
      "cell_type": "code",
      "metadata": {
        "id": "0-LRex8lfv1g",
        "colab_type": "code",
        "colab": {}
      },
      "source": [
        "# may have to run twice to get file to download\n",
        "try:\n",
        "  files.download(gen_file)\n",
        "except:\n",
        "\n",
        "  # Delay a little and try again.\n",
        "\n",
        "  import time\n",
        "  time.sleep(3)\n",
        "\n",
        "  files.download(gen_file)"
      ],
      "execution_count": 0,
      "outputs": []
    },
    {
      "cell_type": "code",
      "metadata": {
        "id": "PtONXzLnvskJ",
        "colab_type": "code",
        "colab": {}
      },
      "source": [
        ""
      ],
      "execution_count": 0,
      "outputs": []
    },
    {
      "cell_type": "markdown",
      "metadata": {
        "id": "QQAN3M6RT7Kj",
        "colab_type": "text"
      },
      "source": [
        "## Generate Text From The Pretrained Model\n",
        "\n",
        "If you want to generate text from the pretrained model, not a finetuned model, pass `model_name` to `gpt2.load_gpt2()` and `gpt2.generate()`.\n",
        "\n",
        "This is currently the only way to generate text from the 774M or 1558M models with this notebook."
      ]
    },
    {
      "cell_type": "code",
      "metadata": {
        "id": "hsUd_jHgUZnD",
        "colab_type": "code",
        "colab": {}
      },
      "source": [
        "# model_name = \"774M\"\n",
        "# gpt2.download_gpt2(model_name=model_name)"
      ],
      "execution_count": 0,
      "outputs": []
    },
    {
      "cell_type": "code",
      "metadata": {
        "id": "BAe4NpKNUj2C",
        "colab_type": "code",
        "colab": {}
      },
      "source": [
        "# sess = gpt2.start_tf_sess()\n",
        "\n",
        "# gpt2.load_gpt2(sess, model_name=model_name)"
      ],
      "execution_count": 0,
      "outputs": []
    },
    {
      "cell_type": "code",
      "metadata": {
        "id": "-xInIZKaU104",
        "colab_type": "code",
        "colab": {}
      },
      "source": [
        "# gpt2.generate(sess,\n",
        "#               model_name=model_name,\n",
        "#               prefix=\"The secret of life is\",\n",
        "#               length=100,\n",
        "#               temperature=0.7,\n",
        "#               top_p=0.9,\n",
        "#               nsamples=5,\n",
        "#               batch_size=5\n",
        "#               )"
      ],
      "execution_count": 0,
      "outputs": []
    },
    {
      "cell_type": "markdown",
      "metadata": {
        "id": "ig-KVgkCDCKD",
        "colab_type": "text"
      },
      "source": [
        "# Etcetera\n",
        "\n",
        "If the notebook has errors (e.g. GPU Sync Fail), force-kill the Colaboratory virtual machine and restart it with the command below:"
      ]
    },
    {
      "cell_type": "code",
      "metadata": {
        "id": "rIHiVP53FnsX",
        "colab_type": "code",
        "colab": {}
      },
      "source": [
        "# !kill -9 -1"
      ],
      "execution_count": 0,
      "outputs": []
    },
    {
      "cell_type": "markdown",
      "metadata": {
        "id": "wmTXWNUygS5E",
        "colab_type": "text"
      },
      "source": [
        "# LICENSE\n",
        "\n",
        "MIT License\n",
        "\n",
        "Copyright (c) 2019 Max Woolf\n",
        "\n",
        "Permission is hereby granted, free of charge, to any person obtaining a copy\n",
        "of this software and associated documentation files (the \"Software\"), to deal\n",
        "in the Software without restriction, including without limitation the rights\n",
        "to use, copy, modify, merge, publish, distribute, sublicense, and/or sell\n",
        "copies of the Software, and to permit persons to whom the Software is\n",
        "furnished to do so, subject to the following conditions:\n",
        "\n",
        "The above copyright notice and this permission notice shall be included in all\n",
        "copies or substantial portions of the Software.\n",
        "\n",
        "THE SOFTWARE IS PROVIDED \"AS IS\", WITHOUT WARRANTY OF ANY KIND, EXPRESS OR\n",
        "IMPLIED, INCLUDING BUT NOT LIMITED TO THE WARRANTIES OF MERCHANTABILITY,\n",
        "FITNESS FOR A PARTICULAR PURPOSE AND NONINFRINGEMENT. IN NO EVENT SHALL THE\n",
        "AUTHORS OR COPYRIGHT HOLDERS BE LIABLE FOR ANY CLAIM, DAMAGES OR OTHER\n",
        "LIABILITY, WHETHER IN AN ACTION OF CONTRACT, TORT OR OTHERWISE, ARISING FROM,\n",
        "OUT OF OR IN CONNECTION WITH THE SOFTWARE OR THE USE OR OTHER DEALINGS IN THE\n",
        "SOFTWARE."
      ]
    }
  ]
}