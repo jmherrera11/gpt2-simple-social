{
  "nbformat": 4,
  "nbformat_minor": 0,
  "metadata": {
    "colab": {
      "name": "GPT-2 Text Generation Training",
      "provenance": [],
      "collapsed_sections": [],
      "toc_visible": true,
      "include_colab_link": true
    },
    "kernelspec": {
      "name": "python3",
      "display_name": "Python 3"
    },
    "accelerator": "GPU"
  },
  "cells": [
    {
      "cell_type": "markdown",
      "metadata": {
        "id": "view-in-github",
        "colab_type": "text"
      },
      "source": [
        "<a href=\"https://colab.research.google.com/github/shaunakg/gpt2-simple-social/blob/master/GPT_2_Text_Generation_Training.ipynb\" target=\"_parent\"><img src=\"https://colab.research.google.com/assets/colab-badge.svg\" alt=\"Open In Colab\"/></a>"
      ]
    },
    {
      "cell_type": "markdown",
      "metadata": {
        "id": "H7LoMj4GA4n_",
        "colab_type": "text"
      },
      "source": [
        "#  Train a GPT-2 Text-Generating Model w/ GPU For Free \n",
        "\n",
        "Original notebook by [Max Woolf](http://minimaxir.com)  \n",
        "\n",
        "Updated by [Shaunak G](https://github.com/shaunakg) with new features:\n",
        "- Allows download of social media posts for training in-house\n",
        "- Exposes machine learning and SM scraping vars to environment file\n",
        "- Slightly edited for runtime continuity (e.g Run All works fully)\n",
        "\n",
        "Retrain an advanced text generating neural network on any text dataset for free on a GPU using Collaboratory using `gpt-2-simple`. Scrape text from reddit, twitter or tumblr using the associated libraries and train the neural network with it.\n",
        "\n",
        "This notebook is also hosted at [this repository](https://github.com/shaunakg/gpt2-simple-social).\n",
        "\n",
        "For more about `gpt-2-simple`, you can visit [this GitHub repository](https://github.com/minimaxir/gpt-2-simple). You can also read the original creator's [blog post](https://minimaxir.com/2019/09/howto-gpt2/) for more information how to use this notebook.\n",
        "\n",
        "To get started:\n",
        "\n",
        "1. Copy this notebook to your Google Drive to keep it and save your changes. (File -> Save a Copy in Drive)\n",
        "2. Make sure you're running the notebook in Google Chrome.\n",
        "3. Run the cells below.  \n",
        "  \n",
        "*Note: some cells have been commented out for continuity when running all (Runtime -> Restart and Run All)*\n"
      ]
    },
    {
      "cell_type": "markdown",
      "metadata": {
        "id": "LkYYcbD0eR-W",
        "colab_type": "text"
      },
      "source": [
        "## Download posts from social media using API"
      ]
    },
    {
      "cell_type": "code",
      "metadata": {
        "id": "eXuajkkCfiuK",
        "colab_type": "code",
        "colab": {
          "base_uri": "https://localhost:8080/",
          "height": 50
        },
        "outputId": "6342c25e-e207-4549-aa03-686aea46aae5"
      },
      "source": [
        "# Quietly install required packages in the runtime using pip\n",
        "!pip install -q python-dotenv pytumblr tweepy praw"
      ],
      "execution_count": null,
      "outputs": [
        {
          "output_type": "stream",
          "text": [
            "\u001b[K     |████████████████████████████████| 153kB 5.8MB/s \n",
            "\u001b[K     |████████████████████████████████| 204kB 15.9MB/s \n",
            "\u001b[?25h"
          ],
          "name": "stdout"
        }
      ]
    },
    {
      "cell_type": "code",
      "metadata": {
        "id": "REYCaI_Tecvc",
        "colab_type": "code",
        "colab": {
          "base_uri": "https://localhost:8080/",
          "height": 34
        },
        "outputId": "f3b8a5fa-e677-4b66-ed5b-879a12adaeb5"
      },
      "source": [
        "import os\n",
        "from os.path import join, dirname\n",
        "from dotenv import load_dotenv\n",
        "\n",
        "# Using .txt not .env because it allows editing in Google Colab - otherwise it would just download\n",
        "dotenv_path = 'config.txt'\n",
        "load_dotenv(dotenv_path)\n",
        "\n",
        "social_media = os.environ.get(\"social_platform\") # Supported: twitter, tumblr, reddit as string\n",
        "social_user = os.environ.get(\"social_user\") # User handle. Currently not supporting custom blog domains. Do not include @ or .tumblr.com. For reddit, this will fetch subreddit titles. Do not include /r/\n",
        "num_posts = int(os.environ.get(\"num_posts\")) # Number of posts/tweets/titles to fetch\n",
        "\n",
        "# The name of what each service calls its submission (e.g 'Tweets' for twitter)\n",
        "submission_name = \"tweets\" if social_media == \"twitter\" else \"post titles\" if social_media==\"reddit\" else \"blog posts\" if social_media == \"tumblr\" else \"data\"\n",
        "\n",
        "training_file_name = social_media + \"_\" + social_user + \"_training.txt\"\n",
        "\n",
        "if social_media == \"tumblr\":\n",
        "\n",
        "  import pytumblr\n",
        "\n",
        "  # Authenticate via OAuth\n",
        "  client = pytumblr.TumblrRestClient(\n",
        "    os.environ.get('tumblr_auth_1'),\n",
        "    os.environ.get('tumblr_auth_2'),\n",
        "    os.environ.get('tumblr_auth_3'),\n",
        "    os.environ.get('tumblr_auth_4')\n",
        "  )\n",
        "\n",
        "  blogposts = client.posts(social_user + \".tumblr.com\", type='text', reblog_info='false', filter='text', tag='dream', limit=num_posts)\n",
        "\n",
        "  with open(__tumblr_file_name, \"a+\") as writefile:\n",
        "    for i in blogposts['posts']:\n",
        "      writefile.write(i['body'] + '\\n')\n",
        "\n",
        "elif social_media == \"twitter\":\n",
        "\n",
        "  import tweepy\n",
        "\n",
        "  twitter_auth = tweepy.OAuthHandler(os.environ.get('twitter_consumer_key'), os.environ.get('twitter_consumer_secret'))\n",
        "  twitter_auth.set_access_token(os.environ.get('twitter_at_key'), os.environ.get('twitter_at_secret'))\n",
        "  print(\"Initialised twitter API\")\n",
        "\n",
        "  twitter_api = tweepy.API(twitter_auth)\n",
        "\n",
        "  with open(training_file_name, \"a+\") as writefile:\n",
        "    twitter_tweets = twitter_api.user_timeline(screen_name = social_user,count=num_posts)\n",
        "\n",
        "    for i in twitter_tweets:\n",
        "      writefile.write( i.text + \"\\n\" )\n",
        "\n",
        "  print(\"Written all posts on \" + social_media + \" by @\" + social_user + \" to \" + training_file_name)\n",
        "\n",
        "elif social_media == \"reddit\":\n",
        "  import praw\n",
        "  reddit = praw.Reddit(client_id=os.environ.get(\"reddit_client_id\"),\n",
        "                      client_secret=os.environ.get(\"reddit_client_secret\"),\n",
        "                      user_agent=os.environ.get(\"reddit_user_agent\"))\n",
        "  \n",
        "  titles = bool(int(os.environ.get(\"titles\")))\n",
        "\n",
        "  if titles:\n",
        "\n",
        "    submission_name = \"post titles\"\n",
        "\n",
        "    with open(training_file_name, \"a+\") as writefile:\n",
        "      for submission in reddit.subreddit(social_user).top(\"all\", limit=num_posts):\n",
        "          writefile.write(submission.title + \"\\n\")\n",
        "\n",
        "    print(\"Written the 100 top post titles in reddit's r/\" + social_user + \" to \" + training_file_name)\n",
        "\n",
        "  else:\n",
        "\n",
        "    submission_name = \"posts\"\n",
        "\n",
        "    with open(training_file_name, \"a+\") as writefile:\n",
        "      for submission in reddit.subreddit(social_user).top(\"all\", limit=num_posts):\n",
        "          writefile.write(submission.selftext + \"\\n=====\\n\")\n",
        "\n",
        "    print(f\"Written the {num_posts} top {submission_name} in reddit's r/{social_user} to {training_file_name}\")\n",
        "\n",
        "else:\n",
        "  print(\"Unsupported or unset social media platform, using non_social_training_file path...\")\n",
        "  training_file_name = os.environ.get(\"non_social_training_file_path\")"
      ],
      "execution_count": null,
      "outputs": [
        {
          "output_type": "stream",
          "text": [
            "Written the 200 top posts in reddit's r/MathHelp to reddit_MathHelp_training.txt\n"
          ],
          "name": "stdout"
        }
      ]
    },
    {
      "cell_type": "code",
      "metadata": {
        "id": "bPVpzGVGfuVV",
        "colab_type": "code",
        "colab": {}
      },
      "source": [
        ""
      ],
      "execution_count": null,
      "outputs": []
    },
    {
      "cell_type": "markdown",
      "metadata": {
        "id": "cKAk2HhQeW_h",
        "colab_type": "text"
      },
      "source": [
        "## Import ML dependencies and setup configuration vars"
      ]
    },
    {
      "cell_type": "code",
      "metadata": {
        "id": "KBkpRgBCBS2_",
        "colab_type": "code",
        "colab": {
          "base_uri": "https://localhost:8080/",
          "height": 185
        },
        "outputId": "20ab8c5f-f661-4414-de43-8b96f3c62cba"
      },
      "source": [
        "%tensorflow_version 1.x\n",
        "!pip install -q gpt-2-simple\n",
        "import gpt_2_simple as gpt2\n",
        "from datetime import datetime\n",
        "from google.colab import files\n",
        "\n",
        "# Setup variables from config file\n",
        "ml_model_name = os.environ.get(\"model_name\") # Usually 124M for mix between accuracy and speed\n",
        "ml_training_steps = int(os.environ.get(\"training_steps\")) # Usually 100\n",
        "ml_generation_length = int(os.environ.get(\"generation_length\")) # Usually 1000\n",
        "ml_temp = float(os.environ.get(\"generation_temperature\")) # How 'crazy' the output is. Recommend between 0.7-1 for useful results or something like 2 if you wanna have fun.\n",
        "ml_batch_size = int(os.environ.get(\"generation_batch_size\"))\n",
        "ml_samples = int(os.environ.get(\"generation_samples_x_batch_size\")) * ml_batch_size"
      ],
      "execution_count": null,
      "outputs": [
        {
          "output_type": "stream",
          "text": [
            "TensorFlow 1.x selected.\n",
            "  Building wheel for gpt-2-simple (setup.py) ... \u001b[?25l\u001b[?25hdone\n",
            "WARNING:tensorflow:\n",
            "The TensorFlow contrib module will not be included in TensorFlow 2.0.\n",
            "For more information, please see:\n",
            "  * https://github.com/tensorflow/community/blob/master/rfcs/20180907-contrib-sunset.md\n",
            "  * https://github.com/tensorflow/addons\n",
            "  * https://github.com/tensorflow/io (for I/O related ops)\n",
            "If you depend on functionality not listed there, please file an issue.\n",
            "\n"
          ],
          "name": "stdout"
        }
      ]
    },
    {
      "cell_type": "markdown",
      "metadata": {
        "id": "Bj2IJLHP3KwE",
        "colab_type": "text"
      },
      "source": [
        "## GPU\n",
        "\n",
        "Colaboratory uses either a Nvidia T4 GPU or an Nvidia K80 GPU. The T4 is slightly faster than the old K80 for training GPT-2, and has more memory allowing you to train the larger GPT-2 models and generate more text.\n",
        "\n",
        "You can verify which GPU is active by running the cell below."
      ]
    },
    {
      "cell_type": "code",
      "metadata": {
        "id": "sUmTooTW3osf",
        "colab_type": "code",
        "colab": {
          "base_uri": "https://localhost:8080/",
          "height": 353
        },
        "outputId": "820db8f4-3999-497f-e7f5-8047d84685fc"
      },
      "source": [
        "!nvidia-smi"
      ],
      "execution_count": null,
      "outputs": [
        {
          "output_type": "stream",
          "text": [
            "Mon Jul 27 06:58:19 2020       \n",
            "+-----------------------------------------------------------------------------+\n",
            "| NVIDIA-SMI 450.51.05    Driver Version: 418.67       CUDA Version: 10.1     |\n",
            "|-------------------------------+----------------------+----------------------+\n",
            "| GPU  Name        Persistence-M| Bus-Id        Disp.A | Volatile Uncorr. ECC |\n",
            "| Fan  Temp  Perf  Pwr:Usage/Cap|         Memory-Usage | GPU-Util  Compute M. |\n",
            "|                               |                      |               MIG M. |\n",
            "|===============================+======================+======================|\n",
            "|   0  Tesla K80           Off  | 00000000:00:04.0 Off |                    0 |\n",
            "| N/A   49C    P8    32W / 149W |      0MiB / 11441MiB |      0%      Default |\n",
            "|                               |                      |                 ERR! |\n",
            "+-------------------------------+----------------------+----------------------+\n",
            "                                                                               \n",
            "+-----------------------------------------------------------------------------+\n",
            "| Processes:                                                                  |\n",
            "|  GPU   GI   CI        PID   Type   Process name                  GPU Memory |\n",
            "|        ID   ID                                                   Usage      |\n",
            "|=============================================================================|\n",
            "|  No running processes found                                                 |\n",
            "+-----------------------------------------------------------------------------+\n"
          ],
          "name": "stdout"
        }
      ]
    },
    {
      "cell_type": "markdown",
      "metadata": {
        "id": "0wXB05bPDYxS",
        "colab_type": "text"
      },
      "source": [
        "## Downloading GPT-2\n",
        "\n",
        "If you're retraining a model on new text, you need to download the GPT-2 model first. \n",
        "\n",
        "There are three released sizes of GPT-2:\n",
        "\n",
        "* `124M` (default): the \"small\" model, 500MB on disk.\n",
        "* `355M`: the \"medium\" model, 1.5GB on disk.\n",
        "* `774M`: the \"large\" model, cannot currently be finetuned with Colaboratory but can be used to generate text from the pretrained model (see later in Notebook)\n",
        "* `1558M`: the \"extra large\", true model. Will not work if a K80 GPU is attached to the notebook. (like `774M`, it cannot be finetuned).\n",
        "\n",
        "Larger models have more knowledge, but take longer to finetune and longer to generate text. You can specify which base model to use by changing `model_name` in the cells below.\n",
        "\n",
        "The next cell downloads it from Google Cloud Storage and saves it in the Colaboratory VM at `/models/<model_name>`.\n",
        "\n",
        "This model isn't permanently saved in the Colaboratory VM; you'll have to redownload it if you want to retrain it at a later time."
      ]
    },
    {
      "cell_type": "code",
      "metadata": {
        "id": "P8wSlgXoDPCR",
        "colab_type": "code",
        "colab": {
          "base_uri": "https://localhost:8080/",
          "height": 134
        },
        "outputId": "47386ab7-4b18-442d-8515-cb50f6956fb1"
      },
      "source": [
        "gpt2.download_gpt2(model_name=ml_model_name)"
      ],
      "execution_count": null,
      "outputs": [
        {
          "output_type": "stream",
          "text": [
            "Fetching checkpoint: 1.05Mit [00:00, 261Mit/s]                                                      \n",
            "Fetching encoder.json: 1.05Mit [00:00, 72.9Mit/s]                                                   \n",
            "Fetching hparams.json: 1.05Mit [00:00, 191Mit/s]                                                    \n",
            "Fetching model.ckpt.data-00000-of-00001: 498Mit [00:04, 121Mit/s]\n",
            "Fetching model.ckpt.index: 1.05Mit [00:00, 174Mit/s]                                                \n",
            "Fetching model.ckpt.meta: 1.05Mit [00:00, 111Mit/s]                                                 \n",
            "Fetching vocab.bpe: 1.05Mit [00:00, 122Mit/s]                                                       \n"
          ],
          "name": "stderr"
        }
      ]
    },
    {
      "cell_type": "markdown",
      "metadata": {
        "id": "N8KXuKWzQSsN",
        "colab_type": "text"
      },
      "source": [
        "## Mounting Google Drive\n",
        "\n",
        "The best way to get input text to-be-trained into the Colaboratory VM, and to get the trained model *out* of Colaboratory, is to route it through Google Drive *first*.\n",
        "\n",
        "Running this cell (which will only work in Colaboratory) will mount your personal Google Drive in the VM, which later cells can use to get data in/out. (it will ask for an auth code; that auth is not saved anywhere)"
      ]
    },
    {
      "cell_type": "code",
      "metadata": {
        "id": "puq4iC6vUAHc",
        "colab_type": "code",
        "colab": {}
      },
      "source": [
        "# This requires user input and therefore interrupts the program.\n",
        "# gpt2.mount_gdrive()"
      ],
      "execution_count": null,
      "outputs": []
    },
    {
      "cell_type": "markdown",
      "metadata": {
        "id": "BT__brhBCvJu",
        "colab_type": "text"
      },
      "source": [
        "## Uploading a Text File to be Trained to Colaboratory\n",
        "\n",
        "In the Colaboratory Notebook sidebar on the left of the screen, select *Files*. From there you can upload files:\n",
        "\n",
        "![alt text](https://i.imgur.com/TGcZT4h.png)\n",
        "\n",
        "Upload **any smaller text file**  (<10 MB) and update the file name in the cell below, then run the cell."
      ]
    },
    {
      "cell_type": "code",
      "metadata": {
        "id": "6OFnPCLADfll",
        "colab_type": "code",
        "colab": {}
      },
      "source": [
        "file_name = training_file_name"
      ],
      "execution_count": null,
      "outputs": []
    },
    {
      "cell_type": "markdown",
      "metadata": {
        "id": "HeeSKtNWUedE",
        "colab_type": "text"
      },
      "source": [
        "If your text file is larger than 10MB, it is recommended to upload that file to Google Drive first, then copy that file from Google Drive to the Colaboratory VM."
      ]
    },
    {
      "cell_type": "code",
      "metadata": {
        "id": "-Z6okFD8VKtS",
        "colab_type": "code",
        "colab": {}
      },
      "source": [
        "# Don't use Google Drive ATM\n",
        "# gpt2.copy_file_from_gdrive(file_name)"
      ],
      "execution_count": null,
      "outputs": []
    },
    {
      "cell_type": "markdown",
      "metadata": {
        "id": "LdpZQXknFNY3",
        "colab_type": "text"
      },
      "source": [
        "## Finetune GPT-2\n",
        "\n",
        "The next cell will start the actual finetuning of GPT-2. It creates a persistent TensorFlow session which stores the training config, then runs the training for the specified number of `steps`. (to have the finetuning run indefinitely, set `steps = -1`)\n",
        "\n",
        "The model checkpoints will be saved in `/checkpoint/run1` by default. The checkpoints are saved every 500 steps (can be changed) and when the cell is stopped.\n",
        "\n",
        "The training might time out after 4ish hours; make sure you end training and save the results so you don't lose them!\n",
        "\n",
        "**IMPORTANT NOTE:** If you want to rerun this cell, **restart the VM first** (Runtime -> Restart Runtime). You will need to rerun imports but not recopy files.\n",
        "\n",
        "Other optional-but-helpful parameters for `gpt2.finetune`:\n",
        "\n",
        "\n",
        "*  **`restore_from`**: Set to `fresh` to start training from the base GPT-2, or set to `latest` to restart training from an existing checkpoint.\n",
        "* **`sample_every`**: Number of steps to print example output\n",
        "* **`print_every`**: Number of steps to print training progress.\n",
        "* **`learning_rate`**:  Learning rate for the training. (default `1e-4`, can lower to `1e-5` if you have <1MB input data)\n",
        "*  **`run_name`**: subfolder within `checkpoint` to save the model. This is useful if you want to work with multiple models (will also need to specify  `run_name` when loading the model)\n",
        "* **`overwrite`**: Set to `True` if you want to continue finetuning an existing model (w/ `restore_from='latest'`) without creating duplicate copies. "
      ]
    },
    {
      "cell_type": "code",
      "metadata": {
        "id": "aeXshJM-Cuaf",
        "colab_type": "code",
        "colab": {
          "base_uri": "https://localhost:8080/",
          "height": 1000
        },
        "outputId": "8fd15230-77ec-457f-ea4a-875f16035e37"
      },
      "source": [
        "sess = gpt2.start_tf_sess()\n",
        "\n",
        "gpt2.finetune(\n",
        "                sess,\n",
        "                dataset=file_name,\n",
        "                model_name=ml_model_name,\n",
        "                steps=ml_training_steps,\n",
        "                restore_from='fresh',\n",
        "                run_name='run1',\n",
        "                print_every=20,\n",
        "                sample_every=25,\n",
        "                save_every=25\n",
        "              )"
      ],
      "execution_count": null,
      "outputs": [
        {
          "output_type": "stream",
          "text": [
            "WARNING:tensorflow:From /usr/local/lib/python3.6/dist-packages/gpt_2_simple/src/sample.py:17: where (from tensorflow.python.ops.array_ops) is deprecated and will be removed in a future version.\n",
            "Instructions for updating:\n",
            "Use tf.where in 2.0, which has the same broadcast rule as np.where\n",
            "Loading checkpoint models/124M/model.ckpt\n",
            "INFO:tensorflow:Restoring parameters from models/124M/model.ckpt\n"
          ],
          "name": "stdout"
        },
        {
          "output_type": "stream",
          "text": [
            "\r  0%|          | 0/1 [00:00<?, ?it/s]"
          ],
          "name": "stderr"
        },
        {
          "output_type": "stream",
          "text": [
            "Loading dataset...\n"
          ],
          "name": "stdout"
        },
        {
          "output_type": "stream",
          "text": [
            "100%|██████████| 1/1 [00:00<00:00,  3.70it/s]\n"
          ],
          "name": "stderr"
        },
        {
          "output_type": "stream",
          "text": [
            "dataset has 30250 tokens\n",
            "Training...\n",
            "[20 | 97.20] loss=2.52 avg=2.52\n",
            "Saving checkpoint/run1/model-25\n",
            "======== SAMPLE 1 ========\n",
            "\n",
            ".\n",
            "\n",
            ".\n",
            "\n",
            "The book doesn't contain very information. But the first two sentences are very helpful and I think this book will help someone out too.\n",
            "=====\n",
            "Thank you, and good luck in your life! :D\n",
            "\n",
            "Edit: I realized that I did it incorrectly, as I have a typo in the title of the online textbook:\n",
            "\n",
            "\"Essay on Psychology & Behavior\"\n",
            "=====\n",
            "I want to try and explain something that can apply to most people and is something I've done many times before, and it's difficult to find a textbook that won't teach it. It's called the \"Essay\". Let me clarify.\n",
            "\n",
            "First you're given the question and you learn to answer with the exercises. The first time I did this I could only put a question mark, but I've come to the point where I'm sure that any textbook that is given the same format has problems with this.\n",
            "\n",
            "I've tried several different methods to try and make this work, but it wouldn't be any help if I just tried all eight of them and they don't work. The only thing that I think works is to practice a little and if you're stuck, head on over to the book's Help section, the problems in the book's main section and you can check out my tutorial that I did in the above video to see where I went wrong.\n",
            "\n",
            "A few of the exercises I tried to make simple, but they just aren't helpful for me.\n",
            "\n",
            "[My own method of writing out and testing exercises.]\n",
            "\n",
            "I know that the idea is to get a number that's always greater than the number you've repeated one time. Do you remember this number? Do you know how to do that?\n",
            "\n",
            "I don't remember the right answer, but I know how to do this in the book's Help section. I know that every time you completed one exercise (1/3 of the way through), you've been given a result, but I can't remember just how to do that. Or I don't know how to do that in the book, or I'm forgetting something that I tried and it can't be fixed. Is it the book for me? Do you know how to solve that problem?\n",
            "\n",
            "Somehow I haven't gotten around to doing that in the book either.\n",
            "\n",
            "But my hope is that you've learned something very important about the way you think. A lot of this could have been learned in school. Or if I recall correctly, you've already gotten there, so what the hell?\n",
            "\n",
            "If I knew how to do that in the book, I can get rid of this problem completely. But that doesn't mean I've done anything wrong. At the worst, you can get a result that's more than two, and maybe you could even solve the question with just one test that contains a question on it. Because once you've done that, you never have to figure out how to solve the question again (as long as you've memorized three of them). Heck, even if you managed to solve it twice, it's still just a one, so you'd better do your best.\n",
            "\n",
            "I can solve one test with no problems, and after you've found a way to solve the test, you can begin your next test with ten. But just in case something goes wrong, you can get ten answers, for a total of five answers.\n",
            "\n",
            "I know that it's better than taking the test twice, but that doesn't count as a successful attempt.\n",
            "=====\n",
            "[The \"Question Book\" contains a very good explanation for why I can solve simple problems but the problem I am trying to solve is a problem where a certain answer to a problem will have no bearing on every other answer.\n",
            "\n",
            "Is it possible to solve a problem in which one answer is always given because the other answer is always given?\n",
            "\n",
            "I started out in math class and got into the real world with this type of problem. I tried a number theory book on it, trying to make amends for my teacher stating in my first post that my problem was a mathematical one, stating that you could show me the proof of this theory by watching a YouTube video, but even that was mostly because my teacher had already told me she would show me your proof if I gave her my way. I'm pretty sure she would then also show you the proof of my theory after I finished class, and you would have probably completely lost me a few hours of practice, especially given the fact that you could always watch her video if you gave her the money or the time of your choice.\n",
            "\n",
            "The problem wasn't that difficult, it's just that I've never actually figured it out, and when I did, I have no idea how to do so other than that I'm pretty confident that it's just some weirdly simple formula that I've just been stuck trying to solve myself that I just can't use to prove anything. And\n",
            "\n",
            "[40 | 207.55] loss=1.51 avg=2.02\n",
            "Saving checkpoint/run1/model-50\n",
            "WARNING:tensorflow:From /tensorflow-1.15.2/python3.6/tensorflow_core/python/training/saver.py:963: remove_checkpoint (from tensorflow.python.training.checkpoint_management) is deprecated and will be removed in a future version.\n",
            "Instructions for updating:\n",
            "Use standard file APIs to delete files with this prefix.\n",
            "======== SAMPLE 1 ========\n",
            " sum, as are the probabilities for l<0: the probabilities for l<1: the probabilities for l<2: the probabilities for l<3: the probabilities for l<4: the probabilities for l<5: the probabilities for l<6: the probabilities for l<7: the probabilities for l<8: the probabilities for l<9: the probabilities for i>=(0<determine>t): the sum of the probabilities for l<0: 0 and l<1: 1, respectively, given that the probabilities for both l<0 and l<1 are 0 and 1 respectively, respectively.\n",
            "\n",
            "Given the probabilities, which are (determine<=(1<1\\*nx^2=1) (0<1\\*nx^2=2), (1<1\\*nx^2=3), (2<1\\*nx^2=4) and (3<1\\*nx^2=5), the sum of the probabilities for l<0, (determine<=(1<1\\*nx^2=0) and (1<1\\*nx^2=1), is 0. For example:\n",
            "\n",
            "determine<=(1<1\\*nx^2=1) (0<1\\*nx^2=2)\n",
            "\n",
            "However, given that that is -1, the probabilities are (determine<=(1<1\\*nx^2=2), (1<1\\*nx^2=3), (2<1\\*nx^2=4) and (3<1\\*nx^2=5), respectively. In other words:\n",
            "\n",
            "treating them as if they were non-negative, given that the probabilities are -1, 2, 3 and so on.\n",
            "\n",
            "The probabilities in question are:\n",
            "\n",
            "1) Not a positive, 1=not a negative and so on\n",
            "\n",
            "2) Not a negative as well 2=not a positive\n",
            "\n",
            "3) Not a negative as well 3=not a positive\n",
            "\n",
            "Thanks!\n",
            "=====\n",
            "Hey all! \n",
            "\n",
            "I have tried setting them to 1 and 2 together and I am pretty sure that is what I am doing.\n",
            "=====\n",
            "[Question in B19.](https://ibb.co/d6X3UR)\n",
            "\n",
            "So I am conducting a basic chemistry class, and I came across a video on how to read and write the Chemistry school chemistry textbook.  I know it is crude, but I am tired of learning by doing.\n",
            "\n",
            "I am very interested in these four skills, which should have a value of 2x, and also contains a section on math exercises related to chemistry, as well as some section of chemistry. In chemistry, you do all the work, while in the chemistry class, you memorize everything. I would like to know what these four skills could be used to do in a chemistry class, and if they could be applied to chemistry exercises, then where would the value of a given skill come from?\n",
            "Thanks!\n",
            "=====\n",
            "Hi all! \n",
            "\n",
            "I'm trying to model a graph theory problem in R - here's a question - where the solution is (x^2 +t)(x^2 -t)=1. This is because (t= x)(x^2 -t)**2 -=1, but you have to add two terms that change the solution to (1). When you do this, you start at (1 + 1). For example: you have (2x^2 +t)(x^2 -t)**2=1. But the graph has a new edge. Because the graph has a new length, you have to add two term (t) (2x^2 +t) -t terms to get 2/(2t), but now you have to add (t)(x^2 -t) term -t terms to get (2/3). The graph now has a new length of 2^32, but the graph can't be made smaller because of the addition of term(2x^2 -t) term(1+1)(t/2)=1 (x^2 -t), which I think represents a big problem here as well.\n",
            "\n",
            "I want to be able to test this theory out on my own, as well as with someone else's game of quadratic e. I'll be using Set as my main graph theory testbed, because I believe it to be one of the most highly-interceptive concepts in science. For those of you who aren't familiar with sets, the basic set theory concepts in math class 4th grade are basic set theory, set theory problem, and quadratic group theory.  Basic set theory concepts also teach us about sets being conjugated into basic set theory,\n",
            "\n",
            "[60 | 315.90] loss=0.96 avg=1.66\n",
            "Saving checkpoint/run1/model-75\n",
            "======== SAMPLE 1 ========\n",
            "^=2\\^λt; and this is the only contradiction I have seen in the textbook:\n",
            "\n",
            "If H(t)=3\\^λt + H(t)=2\\^λt, there is a contradiction. \n",
            "\n",
            "~~\n",
            "\n",
            "My opinion: It's always fine to have a large side effect when you have an extra right side up. Because when put against the constant π, you have an extra right side multiplied by +1. \n",
            "\n",
            "But when put against the equation A\\^λT =  A + β \\^N, you have an extra side multiplied by -1. \n",
            "\n",
            "So since you have an extra side multiplied by one every time you put something extra up, you end up with an extra side multiplied by one every time you apply a downward movement. \n",
            "\n",
            "Then, because you have an extra side multiplied by one every time you rotate a stick, you end up with an extra side multiplied by one every time you put a right-angle up. \n",
            "\n",
            "Then, because you have an extra side multiplied by one every time you put a horizontal or a right-angle up, you end up with an extra side multiplied by one every time you put a up. \n",
            "\n",
            "Here's a picture I've of it I can use to better understand the idea:\n",
            "\n",
            "A = A + β \\^N B = A + AB + B\n",
            "\n",
            "If I were the elected official in this election, I would be able to tell you that I have two choices. Either I go with the normal distribution and use the distribution law to tell me which way to go, or I go with the rearrangement worked out for me. \n",
            "\n",
            "I know that if I look at the whole thing from a rational point of view, I can't spot contradictions. It would be rational for someone to conclude that A = B if they knew C and knew G, but then they wouldn't know if there's anything else going on there.\n",
            "\n",
            "The other choice I have right now is to use the distribution law to find the 95% confidence interval for the fact that I have two choices. If I have neither of these options, I don't have a valid reason to believe that I have either of these choices. \n",
            "\n",
            "I guess I have them both. \n",
            "\n",
            "Edit: Just checked the subject... I guess 95% definitely means 95% definitely means 95% definitely means 95% definitely means 95% definitely means 95% definitely means 95% definitely means 95% definitely means 95% definitely means 95% definitely means 95% definitely means 95% definitely means 95% definitely means 95% definitely means 95% definitely means 95% definitely means 95% definitely means 95% definitely means 95% definitely means 95% definitely means 95% definitely means 95% definitely means *okay, 95% definitely is correct*, but 95% definitely is not.\n",
            "=====\n",
            "Hello all!\n",
            "\n",
            "I am currently taking courses in numerology and probability at the University of Toronto. This year I am taking PDE 8.0, which has a minor in mathematics and is awarded to 18th grade. I completed all 4 of the examinations I had taken in that major in order to become a PDE 8.0 student.\n",
            "\n",
            "I did well in both examinations, taking both PDEs A through Q on average and accounting for over 75% of my tests. I completed accounting for less than 10% of my tests, as I took accounting for 30.5% of my tests. I did well on the online tests too, taking four times as many online as I did in school. I completed both online and off after taking the TDEs.\n",
            "\n",
            "Essentially my PDE was A under accounting for 6.5% of my total. I had an average of 917 total online, accounting for only 47.6% of my tests. I completed accounting for over 85% of my tests, taking twice as many tests as I did in school.\n",
            "\n",
            "Some thoughts:\n",
            "\n",
            "-My average was 688. My average was 912. My average was 2,081 for PDEs A through Q.\n",
            "\n",
            "-My greatest test was A# on average of 144. My greatest test was 144 on average of 144 on average of 144. I should have taken 144 on average, because 144 is a lot. My greatest test was 144# on average of 144 on average of 144 on average of 144. My greatest test was 144## on average of 144#ON average of 144 on average of 144On average of 144#ON dark santa did right on 144#ON!\n",
            "\n",
            "In summary: Pretty much all my tests were average over an average day.\n",
            "\n",
            "I regret that I included accounting under accounting, as it accounted for more of my total tests than any other day.\n",
            "=====\n",
            "===== \"If a black person gets to decide whether or not to have a child, so too does a white person.  \n",
            "\n",
            "[80 | 424.43] loss=0.71 avg=1.42\n",
            "[100 | 513.33] loss=0.25 avg=1.18\n",
            "Saving checkpoint/run1/model-100\n",
            "======== SAMPLE 1 ========\n",
            "/3+4 -0.067x=0.050y=-213.54\n",
            "\n",
            "Then I multiplied this by the square of the angle between the two measurements; so if the square is -3.5 and the angle is 3.5, then multiplying the remainder of the constant y(1/2) by 1 is also equal to 2.54(ish) .\n",
            "\n",
            "Then I rearranged these measurements to get for example 2.54(ish) / (1/2)-3.5 = 2.55(ish) .\n",
            "\n",
            "So now the net result is  (213.54x, 1/2 = 2.) / (2.55x, 1/2 = 1.)  which is correctly divided by 1, which means the unit of the order 3.55 is now 2.54(ish) x (losing power) / (1/2)-3.55 = 1.061x (raising efficiency).\n",
            "\n",
            "Which brings me to today's lesson....\n",
            "\n",
            "If I have a sample volume of 300 x 2.54(ish) and my teacher wants me to use the unit of order 1.5 x 20, I can easily get the two equations together and count each side by hand. The issue is that she insists on using the square of velocity (q=2.54v/3)(5/3) over volume so I have to multiply the variables q=300 and v=v300 (counting hand over and over again)\n",
            "\n",
            "By the way, is the volume teacher/family-planning to prevent me from using the negative side effect of the other side by using a counting method parents guide me on this one too?\n",
            "\n",
            "My answer so far is a resounding \"no\".\n",
            "=====\n",
            "\"Test 9(t)\" reads everything in the sidebar but 1/3. Can someone explain more clearly why this is wrong?\n",
            "=====\n",
            "\"Test 10(tl)\" reads everything in this sidebar but 3/4. I would like to know the correct way to control for subtraction.\n",
            "=====\n",
            "\"Test\" redirects here. It is **Perl 12** API line 31, **typevent** line 31 API line\n",
            "\n",
            "correctly.\n",
            "\n",
            "Edit: perl 12 isn't correct, it is just that it's been replaced with a less-commonly-used name (such as 中文)\n",
            "\n",
            "Edit: This has now been removed.\n",
            "=====\n",
            "\"Test(t,rs,us,tc,ru)\n",
            "\n",
            "In this lesson, we learn how to apply mathematical reasoning to solve proof problems that require a theory of proof. \n",
            "\n",
            "We begin by considering the sets of all prime numbers in the set of all rational numbers.\n",
            "\n",
            "Then, we make inferences about their possible solutions based on the solutions given in terms of discrete numbers.\n",
            "\n",
            "For example, suppose we have a proof that:\n",
            " x^2 = 3 - 2 \\* \\* \\* \\* \\* \\* + e^(1) = 0 \\* e^(2) = 0 because x^(2) = 3 - 2 \\* e^(3) = 0? We can derive this solution from the fact that:\n",
            " x^(2) = 3 - 2 \\* \\* \\* + 1 e^(1) \\* = 0 \\* \\* + (1/2) \\* = 0 ; therefore, we can define x as a discrete number. \n",
            "\n",
            "But, if we have a more precise definition of discrete, for example, say, having a factor of 2 in the set of integers, we can also derive it from these two discrete choices instead of just having to do something more precise like having the equation be discretely multiple (say, having x^(2) - 1).\n",
            "\n",
            "I understand this also for the set of discrete numbers that make up the subset of the set of integers.\n",
            "=====\n",
            "To me, this looks like a bad solution. I know that two inputs are 2 and 3, and that the remaining inputs will probably be 4, 6, 8, 16, 32, etc.\n",
            "But the harder it is to calculate, the more difficult it would seem that one input is 2, 3, and 4 at the top (|2(397), 3(1000),|3(200)}.\n",
            "\n",
            "Ive worked it out but the approach was always 3, 4, etc.\n",
            "I'm not sure how to tell the difference when one side does better than the other when it comes to accuracy, as accuracy is only derived when all the factors are the same (over/under study)).\n",
            "\n",
            "Could you explain how this is reflected in the answer to a test, and why is it that the answers to the main question (which is also incorrectly assumed to be 2, 4, etc)?\n",
            "[The answer to the main question](https://i.redd.\n",
            "\n",
            "[120 | 621.60] loss=0.20 avg=1.01\n",
            "Saving checkpoint/run1/model-125\n",
            "======== SAMPLE 1 ========\n",
            "(\\triad|2)^2 = 4 \\-e \\* dx\n",
            "\n",
            "&d\n",
            "\n",
            "So, after setting the probabilities at 4/2, what happens to 3/2 after we've already been informed?\n",
            "=====\n",
            "We can now accurately calculate the initial five percent discount rate given the π² matrix, but we're not sure how to apply the generalization. Any help would be appreciated!\n",
            "=====\n",
            "We can derive the initial two initial terms from the matrix, but we don't know how to apply the generalization to the matrix's edges. Any help would be appreciated!\n",
            "=====\n",
            "We can derive the initial two probabilities by using the product rule and the nonce rule. However, we're not sure this is the right method to apply when considering the generalization of Pairt's Law.\n",
            "\n",
            "Any help would be appreciated!\n",
            "=====\n",
            "We can derive the initial two probabilities based on the fact that the initial condition is -ive(x) + ive(x\\^2) -ive(1/2)^2 = 3.5. How can we further simplify so that we are no longer dividing by 3?\n",
            "=====\n",
            "Solving for x in x�s for a moment. We know that there is a turing period of ~3 seconds, so we multiply the period turingperiod by the period of ~3 seconds. \n",
            "\n",
            "The resulting answer is:\n",
            "300 - (3/2) * 3/2 = 900. This is equal to (5/3) + (1/2) * 900 = square root of 500 - (1/2) * 900 = 0. \n",
            "\n",
            "Solve for x in x�s for a bit more context.\n",
            "\n",
            "300 - (3/2) * 900 = tensor of 500 - (1/2) * 900 = tensor of 500 - (1/4) * 900 = tensor of 500 - (1/8) * 900 = tensor of 500 - (1/32) * 900 = tensor of 500 - (1) * 900 = tensor of 500 + square root of 500 - (1/32) * 900 = tensor of 500 - (1) * 900 = tensor of 500 + scalar of 500 - (1/32) * 900 = tensor of 500 - (1) * 900 = tensor of 500 + integrase of 500 - (1/32) * 900 = tensor of 500 - (1) * 900 = tensor of 500 + integration of 500 - (1/32) * 900 = tensor of 500 - (1) * 900 = tensor of 500 + integra of 500 - (1/32) * 900 = tensor of 500 - (1) * 900 = tensor of 500 + integra of 500 - (1/32) * 900 = tensor of 500 + integra of 500 - (1/32) * 900 = tensor of 500 - (2) * 300 - (3/2) * 300 = tensor of 515 - (1/2) * 300 = tensor of 515 - (1/4) * 300 = tensor of 515 - (1) * 300 = tensor of 515 - (1) * 300 = tensor of 515 + tensor - tensor * 300 = tensor of 500 - (3) * 300 = tensor of 500 - (2) * 300 = tensor of 500 - (2) * 293 - (3/4) * 293 = tensor of 500 - (1) * 293 = tensor of 500 - (1) * 293 = tensor of 500 - (1) * 293 = tensor of 500 - (1) * 293 = tensor of 500 - (5) * 300 = tensor of 500 - (1) * 300 = tensor of 500 - (2) * 300 = tensor of 500 - (1) * 300 = tensor of 500 - (1) * 300 = tensor of 500 - (1) * 300 = tensor of 500 - (5)\n",
            "=====\n",
            "When i googled it�s� effect on me,�d hope that information can�t�`�discuss the effect of mind control that many people seem to have on others,� i got quite a bit of information. \n",
            "\n",
            "here it is, just edited out of the main because it contains such an apparently minor point: mind control is a relatively new concept back in the day. it was first developed in the 1950's against the grain by the US military and was generally thought to be a stupid idea. alot of us still don't understand how it works, why it works, or has any hope of understanding how it can be changed.\n",
            "\n",
            "so, if you are in the US and are a huge fan of the US Military, be very\n",
            "\n",
            "[140 | 729.92] loss=0.08 avg=0.88\n",
            "Saving checkpoint/run1/model-150\n",
            "======== SAMPLE 1 ========\n",
            " rest where she was supposed to find the first three numbers. When I tried finding the first two, I found the answer I couldn't wait to solve for the rest of the tests. I got a 9 on my last attempt, but I still aren't sure I did my due diligence enough to grade.\n",
            "\n",
            "I appreciate any help I can get.\n",
            "=====\n",
            "Anyone able to provide a basic knowledge of mathematics and some basic math problems to go along with their test? I mean, how does one do that? This question got me stumped quite a bit.\n",
            "\n",
            "Anyone could give us a little bit of information about mathematics that could be helpful in answering this question. Thanks in advance!\n",
            "=====\n",
            "[Here's what I got so far](https://d2vlcm61l7u1fs.cloudfront.net/media%2Fd2e%2Fd2eeee96-4545-4b87-92dc-885ec5ec5d2f0%2Fd2eeee96-4545-4b87-92dc-885ec5ec5d2f0).\n",
            "\n",
            "Then of course I could give you a formula for calculating the reciprocal of the two numbers. I don't think this is required in the U.S. or any other country, but I would love to learn it. Thanks in advance!\n",
            "=====\n",
            "Hi everyone,\n",
            "\n",
            "I am studying geometry, and the question was asked and was briefly asked here: http://imgur.com/a/n5a3a6S Here's the question: http://imgur.com/a/5a3198D\n",
            "\n",
            "The online lesson I'm taking right now is as follows:\n",
            "\n",
            "A = √(7) + (2x)\n",
            "\n",
            "Measured in terms of (7) and (2x).\n",
            "\n",
            "So, if I'm correct, great! If not, how would you calculate the √(7) and √(7)x?\n",
            "\n",
            "The problem arises when you take \"the whole number (including negatives, cosines, order of magnitude, order of magnitude derivatives, and signs)\" into account in this lesson.\n",
            "\n",
            "It turns out that the answer to the question is 7, but we don't know the precise amount. Because of this, we've tried to use a calculator to write the answer, but are at a loss as to how to find the largest valid use case.\n",
            "\n",
            "Hey guys -\n",
            "\n",
            "I want to simplify the numerator and denominator of our problem by using the opposite method. In our numerator problem, we divide 5 by 2 and factor 5 by 2. In our multiplying the two problems, we multiply 5 by 2, which results in 2 divided by 2. This method isn't precise, but it is close enough that I'm convinced the answer is 7.\n",
            "\n",
            "Anyone able to give us a better way than us here?\n",
            "=====\n",
            "[Here's what I got so far](https://imgur.com/a/2SDQM764)\n",
            "\n",
            "Here's what I've got so far\n",
            "\n",
            "i have 6.43g of dim sum\n",
            "\n",
            "icr 0.92\n",
            "\n",
            "icr 1\n",
            "\n",
            "i have 8.47g of dim sum\n",
            "\n",
            "i think i just have the numbers wrong\n",
            "=====\n",
            "(√ 7 ) + ( 2x )\n",
            "\n",
            "I haven't quite gotten the idea, but 6 gives a *small* + (1/7)*7 + 1 over 7.\n",
            "\n",
            "I think the *minor* difference is because the equation is 6 sides to the circle.\n",
            "\n",
            "7/√ 7 equals 0.92x\n",
            "\n",
            "The big problem is that I have no idea what to do with the other *number* in the equation.\n",
            "\n",
            "[Here's what I've got so far](https://imgur.com/a/2SDQM764)\n",
            "=====\n",
            "I wanted to know this because I have an online class for which I need to watch series that deal in colour. The issue is that the series are usually shot live and the cast is usuallyune, so the answer is probably a little on the short side.  However, I am interested in those with whom I can chat about the series, because there is much to learn about online. If you are one of the people who is not able to chat, please let me know so I can address the issue.\n",
            "\n",
            "For those with whichI have a difficultyerent :\n",
            "\n",
            "A≥B_2\n",
            "\n",
            "But there it is. \n",
            "\n",
            "Because we are going back and forth between the valuesB andB =A_2 \n",
            "\n",
            "Thinking about it, if I use the integral of both sides to determine the A, and the integral of the whole, then the question is \n",
            "B_2 \n",
            "And here is what I do:\n",
            "\n",
            "B_2 = A_\n",
            "\n",
            "[160 | 838.14] loss=0.08 avg=0.77\n",
            "Saving checkpoint/run1/model-175\n",
            "======== SAMPLE 1 ========\n",
            "2 + b)\n",
            "\n",
            "so max sum = 2ln(1-cos2)/4 (I realize I've omitted the period)\n",
            "\n",
            "I then used my previously released class cap to calculate the 2nd order product. \n",
            "\n",
            "213000 + 1ln(1-cos2)/4 = 2097000\n",
            "\n",
            "1405056 + 1ln(1-cos2) / 4 = 1813000\n",
            "\n",
            "So given the 2nd order product, we were left with 2380656 + 19x cos* + 20 - 1 *cos2*\n",
            "\n",
            "My answer was even more confusing than the one I just gave you! My teacher had this to look for minor components but she didn't seem to know how to figure out the third order product. \n",
            "\n",
            "Is this it? \n",
            "\n",
            "The book just outlines 6 properties needed to get the \"right\" formula for it, completely ignoring the fact that I already had an idea what that was but had no idea how to visualize it. \n",
            "\n",
            "You don't even know what that means or what to do if you don't even try. I'm sorry if I'm violating the rules but I need someone to tell a better job than me here.\n",
            "\n",
            "Gimme gimme on that...\n",
            "\n",
            "Gimme 0.9x on the bottom of the xchart\n",
            "\n",
            "Gimme 2.0 on the right side\n",
            "\n",
            "=====\n",
            "I understand that when adding the negative numbers i.e. sqrt(4x) together i don't even know what to do. Is my understanding correct?\n",
            "\n",
            "Edit: I mistyped:\n",
            "\n",
            "i.e. (x^2 + 4x) + sqrt(4x)\n",
            "\n",
            "ii.e. (x^2 -2x) + sqrt(4x)\n",
            "\n",
            "iii.e. (x^2 *2x) - sqrt(4x)\n",
            "\n",
            "otherwise it's adding 6x+8x-1etal items and that should be the square over the amount of x\n",
            "\n",
            "My understanding is that doing so will add 2.0x of the total to the bottom of the xchart, which i think is correct since i just added the second number.\n",
            "\n",
            "Any help would be appreciated!\n",
            "=====\n",
            "I know it's because you transform 5 into 5.5 each turn. Each turn, you pick one of the following 3 classes:\n",
            "\n",
            "Melee/Explicit\n",
            "\n",
            "Dagger\n",
            "\n",
            "Throwing\n",
            "\n",
            "Throwing Weapons/Armor\n",
            "\n",
            "Charms\n",
            "\n",
            "Barding\n",
            "\n",
            "There are 3 classes selected, one for each skill tree.\n",
            "\n",
            "Each time you take one of the three classes, you are awarded a skill point (SP). SP is divided equally among the three classes you took effected your first turn in.\n",
            "\n",
            "For example: you are in Athletics, and taking A. You are given the following skill trees:\n",
            "\n",
            "Acrobatics - give 1 SP for each of the following options:\n",
            "\n",
            "Shortfall - give 1 SP for each of the following options:\n",
            "\n",
            "Steep - give 1 SP for each of the following options:\n",
            "\n",
            "Anticipation - give 1 SP for each of the following options:\n",
            "\n",
            "Revision - give 1 SP for each of the following options:\n",
            "\n",
            "Workout IV - give 1 SP for each of the following options:<|endoftext|>The U.S Department of the Interior is investigating a truck that left the company's trucking business in Des Moines, Iowa, and was stopped at a red light on Interstate 45 for violating the Endangered Species Act.\n",
            "\n",
            "A total of three trucks pass the truck stop at I-45 and the stop sign is I-45. When the first truck exits I-45, the third unsecured truck exits I-45.\n",
            "\n",
            "The truck that left the stop without a tag indicates it arrived without a license plate and without license plate tags.\n",
            "\n",
            "The truck that arrived without a license plate arrived without an uncorrected driver's license.\n",
            "\n",
            "I-45 exits at I-45\n",
            "\n",
            "I-45 exits from Des Moines to Lowell\n",
            "\n",
            "I-45 exits from Lowell to Lowellland\n",
            "\n",
            "What am I missing?\n",
            "\n",
            "u/LloydPD — Alex Gonzalez-Ortega (@alexgonzalez) February 11, 2016\n",
            "\n",
            "The driver of a 2014 Ford F-150 Raptor that left without a license said it arrived without a license plate on Saturday. The truck that left without a license plate showed no problems and arrived without a license plate, police wrote in a news release.\n",
            "\n",
            "A police report identified the driver of the truck as 32-year-old Andrew Garcia.\n",
            "\n",
            "Garcia is charged with violating the Endangered Species Act, according to Des Moines Register reporter Scott M. Klima.\n",
            "\n",
            "Klima wrote that the truck stopped without a license plate and without a tag Sunday afternoon. The next day\n",
            "\n",
            "[180 | 946.36] loss=0.06 avg=0.69\n",
            "[200 | 1035.30] loss=0.08 avg=0.63\n",
            "Saving checkpoint/run1/model-200\n"
          ],
          "name": "stdout"
        }
      ]
    },
    {
      "cell_type": "markdown",
      "metadata": {
        "id": "IXSuTNERaw6K",
        "colab_type": "text"
      },
      "source": [
        "After the model is trained, you can copy the checkpoint folder to your own Google Drive.\n",
        "\n",
        "If you want to download it to your personal computer, it's strongly recommended you copy it there first, then download from Google Drive. The checkpoint folder is copied as a `.rar` compressed file; you can download it and uncompress it locally.  \n",
        "\n",
        "*Notice: this is disabled because it is slow and not required for the main function of the program*"
      ]
    },
    {
      "cell_type": "code",
      "metadata": {
        "id": "VHdTL8NDbAh3",
        "colab_type": "code",
        "colab": {}
      },
      "source": [
        "# Uncomment if you want to copy the checkpoint to Google Drive. Currently, functionality is disabled because it is very slow.\n",
        "# gpt2.copy_checkpoint_to_gdrive(run_name='run1')"
      ],
      "execution_count": null,
      "outputs": []
    },
    {
      "cell_type": "markdown",
      "metadata": {
        "id": "qQJgV_b4bmzd",
        "colab_type": "text"
      },
      "source": [
        "You're done! Feel free to go to the **Generate Text From The Trained Model** section to generate text based on your retrained model."
      ]
    },
    {
      "cell_type": "markdown",
      "metadata": {
        "id": "pel-uBULXO2L",
        "colab_type": "text"
      },
      "source": [
        "## Load a Trained Model Checkpoint\n",
        "\n",
        "Running the next cell will copy the `.rar` checkpoint file from your Google Drive into the Colaboratory VM."
      ]
    },
    {
      "cell_type": "code",
      "metadata": {
        "id": "DCcx5u7sbPTD",
        "colab_type": "code",
        "colab": {}
      },
      "source": [
        "# This cell interrupts a full run. Uncomment if you want to load a checkpoint from Drive instead of training.\n",
        "# gpt2.copy_checkpoint_from_gdrive(run_name='run1')"
      ],
      "execution_count": null,
      "outputs": []
    },
    {
      "cell_type": "markdown",
      "metadata": {
        "id": "RTa6zf3e_9gV",
        "colab_type": "text"
      },
      "source": [
        "The next cell will allow you to load the retrained model checkpoint + metadata necessary to generate text.\n",
        "\n",
        "**IMPORTANT NOTE:** If you want to rerun this cell, **restart the VM first** (Runtime -> Restart Runtime). You will need to rerun imports but not recopy files."
      ]
    },
    {
      "cell_type": "code",
      "metadata": {
        "id": "-fxL77nvAMAX",
        "colab_type": "code",
        "colab": {}
      },
      "source": [
        "# These cells interrupt a full run.\n",
        "# sess = gpt2.start_tf_sess()\n",
        "# gpt2.load_gpt2(sess, run_name='run1')"
      ],
      "execution_count": null,
      "outputs": []
    },
    {
      "cell_type": "markdown",
      "metadata": {
        "id": "ClJwpF_ACONp",
        "colab_type": "text"
      },
      "source": [
        "## Generate Text From The Trained Model\n",
        "\n",
        "After you've trained the model or loaded a retrained model from checkpoint, you can now generate text. `generate` generates a single text from the loaded model."
      ]
    },
    {
      "cell_type": "code",
      "metadata": {
        "id": "4RNY6RBI9LmL",
        "colab_type": "code",
        "colab": {}
      },
      "source": [
        "# Uncomment if you want to generate inline\n",
        "# gpt2.generate(sess, run_name='run1')"
      ],
      "execution_count": null,
      "outputs": []
    },
    {
      "cell_type": "markdown",
      "metadata": {
        "id": "oF4-PqF0Fl7R",
        "colab_type": "text"
      },
      "source": [
        "If you're creating an API based on your model and need to pass the generated text elsewhere, you can do `text = gpt2.generate(sess, return_as_list=True)[0]`\n",
        "\n",
        "You can also pass in a `prefix` to the generate function to force the text to start with a given character sequence and generate text from there (good if you add an indicator when the text starts).\n",
        "\n",
        "You can also generate multiple texts at a time by specifing `nsamples`. Unique to GPT-2, you can pass a `batch_size` to generate multiple samples in parallel, giving a massive speedup (in Colaboratory, set a maximum of 20 for `batch_size`).\n",
        "\n",
        "Other optional-but-helpful parameters for `gpt2.generate` and friends:\n",
        "\n",
        "*  **`length`**: Number of tokens to generate (default 1023, the maximum)\n",
        "* **`temperature`**: The higher the temperature, the crazier the text (default 0.7, recommended to keep between 0.7 and 1.0)\n",
        "* **`top_k`**: Limits the generated guesses to the top *k* guesses (default 0 which disables the behavior; if the generated output is super crazy, you may want to set `top_k=40`)\n",
        "* **`top_p`**: Nucleus sampling: limits the generated guesses to a cumulative probability. (gets good results on a dataset with `top_p=0.9`)\n",
        "* **`truncate`**: Truncates the input text until a given sequence, excluding that sequence (e.g. if `truncate='<|endoftext|>'`, the returned text will include everything before the first `<|endoftext|>`). It may be useful to combine this with a smaller `length` if the input texts are short.\n",
        "*  **`include_prefix`**: If using `truncate` and `include_prefix=False`, the specified `prefix` will not be included in the returned text."
      ]
    },
    {
      "cell_type": "code",
      "metadata": {
        "id": "8DKMc0fiej4N",
        "colab_type": "code",
        "colab": {}
      },
      "source": [
        "# gpt2.generate(sess,\n",
        "#               length=ml_generation_length,\n",
        "#               temperature=ml_temp,\n",
        "#               nsamples=1,\n",
        "#               batch_size=1\n",
        "#               )"
      ],
      "execution_count": null,
      "outputs": []
    },
    {
      "cell_type": "markdown",
      "metadata": {
        "id": "zjjEN2Tafhl2",
        "colab_type": "text"
      },
      "source": [
        "For bulk generation, you can generate a large amount of text to a file and sort out the samples locally on your computer. The next cell will generate a generated text file with a unique timestamp.\n",
        "\n",
        "You can rerun the cells as many times as you want for even more generated texts!"
      ]
    },
    {
      "cell_type": "code",
      "metadata": {
        "id": "Fa6p6arifSL0",
        "colab_type": "code",
        "colab": {}
      },
      "source": [
        "notice_text = f\"--------------------------------------------------------------------------------------------------------\\nGPT2 Text Generation using https://github.com/minimaxir/gpt-2-simple and\\nhttps://github.com/shaunakg/gpt2-simple-social.\\n\\nNeural Network trained on {num_posts} {submission_name} by {social_user} on {social_media} (generation temperature set to {ml_temp}).\\n\\nNOTICE: Neither @minimaxir or @shaunakg, nor the developers of the ML models are liable for innappropriate or explicit content in the contents\\nof auto-generated text. Read and use at your own risk. Published under the MIT License\\n---------------------------------------------------------------------------------------------------------\\n\"\n",
        "gen_file = 'gpt2simple' + social_media + \"_\" + social_user + '_temp' + str(1.0) + \"_{:%Y%m%d_%H%M%S}.txt\".format(datetime.utcnow())\n",
        "\n",
        "try:\n",
        "  gpt2.generate_to_file(\n",
        "                          sess,\n",
        "                          destination_path=gen_file,\n",
        "                          length=ml_generation_length,\n",
        "                          temperature=ml_temp,\n",
        "                          nsamples=ml_samples,\n",
        "                          batch_size=20\n",
        "                        )\n",
        "except Exception as e:\n",
        "  print(\"Reached an exception during generation, reducing length to 500 and trying again... [\" + str(e) + \"]\")\n",
        "  gpt2.generate_to_file(\n",
        "                          sess,\n",
        "                          destination_path=gen_file,\n",
        "                          length=500,\n",
        "                          temperature=ml_temp,\n",
        "                          nsamples=ml_samples,\n",
        "                          batch_size=ml_batch_size\n",
        "                        )\n",
        "\n",
        "with open(gen_file, 'a+') as f:\n",
        "  f.write(notice_text)"
      ],
      "execution_count": null,
      "outputs": []
    },
    {
      "cell_type": "code",
      "metadata": {
        "id": "0-LRex8lfv1g",
        "colab_type": "code",
        "colab": {
          "base_uri": "https://localhost:8080/",
          "height": 17
        },
        "outputId": "42c4c8a6-0fc0-419e-c017-1a7bfc281121"
      },
      "source": [
        "# may have to run twice to get file to download\n",
        "try:\n",
        "  files.download(gen_file)\n",
        "except:\n",
        "\n",
        "  # Delay a little and try again.\n",
        "\n",
        "  import time\n",
        "  time.sleep(3)\n",
        "\n",
        "  files.download(gen_file)"
      ],
      "execution_count": null,
      "outputs": [
        {
          "output_type": "display_data",
          "data": {
            "application/javascript": [
              "\n",
              "    async function download(id, filename, size) {\n",
              "      if (!google.colab.kernel.accessAllowed) {\n",
              "        return;\n",
              "      }\n",
              "      const div = document.createElement('div');\n",
              "      const label = document.createElement('label');\n",
              "      label.textContent = `Downloading \"${filename}\": `;\n",
              "      div.appendChild(label);\n",
              "      const progress = document.createElement('progress');\n",
              "      progress.max = size;\n",
              "      div.appendChild(progress);\n",
              "      document.body.appendChild(div);\n",
              "\n",
              "      const buffers = [];\n",
              "      let downloaded = 0;\n",
              "\n",
              "      const channel = await google.colab.kernel.comms.open(id);\n",
              "      // Send a message to notify the kernel that we're ready.\n",
              "      channel.send({})\n",
              "\n",
              "      for await (const message of channel.messages) {\n",
              "        // Send a message to notify the kernel that we're ready.\n",
              "        channel.send({})\n",
              "        if (message.buffers) {\n",
              "          for (const buffer of message.buffers) {\n",
              "            buffers.push(buffer);\n",
              "            downloaded += buffer.byteLength;\n",
              "            progress.value = downloaded;\n",
              "          }\n",
              "        }\n",
              "      }\n",
              "      const blob = new Blob(buffers, {type: 'application/binary'});\n",
              "      const a = document.createElement('a');\n",
              "      a.href = window.URL.createObjectURL(blob);\n",
              "      a.download = filename;\n",
              "      div.appendChild(a);\n",
              "      a.click();\n",
              "      div.remove();\n",
              "    }\n",
              "  "
            ],
            "text/plain": [
              "<IPython.core.display.Javascript object>"
            ]
          },
          "metadata": {
            "tags": []
          }
        },
        {
          "output_type": "display_data",
          "data": {
            "application/javascript": [
              "download(\"download_78d03d91-b5c4-4714-8674-8f8f55280fcc\", \"gpt2simplereddit_MathHelp_temp1.0_20200727_071613.txt\", 348139)"
            ],
            "text/plain": [
              "<IPython.core.display.Javascript object>"
            ]
          },
          "metadata": {
            "tags": []
          }
        }
      ]
    },
    {
      "cell_type": "code",
      "metadata": {
        "id": "PtONXzLnvskJ",
        "colab_type": "code",
        "colab": {}
      },
      "source": [
        ""
      ],
      "execution_count": null,
      "outputs": []
    },
    {
      "cell_type": "markdown",
      "metadata": {
        "id": "QQAN3M6RT7Kj",
        "colab_type": "text"
      },
      "source": [
        "## Generate Text From The Pretrained Model\n",
        "\n",
        "If you want to generate text from the pretrained model, not a finetuned model, pass `model_name` to `gpt2.load_gpt2()` and `gpt2.generate()`.\n",
        "\n",
        "This is currently the only way to generate text from the 774M or 1558M models with this notebook."
      ]
    },
    {
      "cell_type": "code",
      "metadata": {
        "id": "hsUd_jHgUZnD",
        "colab_type": "code",
        "colab": {}
      },
      "source": [
        "# model_name = \"774M\"\n",
        "# gpt2.download_gpt2(model_name=model_name)"
      ],
      "execution_count": null,
      "outputs": []
    },
    {
      "cell_type": "code",
      "metadata": {
        "id": "BAe4NpKNUj2C",
        "colab_type": "code",
        "colab": {}
      },
      "source": [
        "# sess = gpt2.start_tf_sess()\n",
        "\n",
        "# gpt2.load_gpt2(sess, model_name=model_name)"
      ],
      "execution_count": null,
      "outputs": []
    },
    {
      "cell_type": "code",
      "metadata": {
        "id": "-xInIZKaU104",
        "colab_type": "code",
        "colab": {}
      },
      "source": [
        "# gpt2.generate(sess,\n",
        "#               model_name=model_name,\n",
        "#               prefix=\"The secret of life is\",\n",
        "#               length=100,\n",
        "#               temperature=0.7,\n",
        "#               top_p=0.9,\n",
        "#               nsamples=5,\n",
        "#               batch_size=5\n",
        "#               )"
      ],
      "execution_count": null,
      "outputs": []
    },
    {
      "cell_type": "markdown",
      "metadata": {
        "id": "ig-KVgkCDCKD",
        "colab_type": "text"
      },
      "source": [
        "# Etcetera\n",
        "\n",
        "If the notebook has errors (e.g. GPU Sync Fail), force-kill the Colaboratory virtual machine and restart it with the command below:"
      ]
    },
    {
      "cell_type": "code",
      "metadata": {
        "id": "rIHiVP53FnsX",
        "colab_type": "code",
        "colab": {}
      },
      "source": [
        "# !kill -9 -1"
      ],
      "execution_count": null,
      "outputs": []
    },
    {
      "cell_type": "markdown",
      "metadata": {
        "id": "wmTXWNUygS5E",
        "colab_type": "text"
      },
      "source": [
        "# LICENSE\n",
        "\n",
        "MIT License\n",
        "\n",
        "Copyright (c) 2019 Max Woolf\n",
        "\n",
        "Permission is hereby granted, free of charge, to any person obtaining a copy\n",
        "of this software and associated documentation files (the \"Software\"), to deal\n",
        "in the Software without restriction, including without limitation the rights\n",
        "to use, copy, modify, merge, publish, distribute, sublicense, and/or sell\n",
        "copies of the Software, and to permit persons to whom the Software is\n",
        "furnished to do so, subject to the following conditions:\n",
        "\n",
        "The above copyright notice and this permission notice shall be included in all\n",
        "copies or substantial portions of the Software.\n",
        "\n",
        "THE SOFTWARE IS PROVIDED \"AS IS\", WITHOUT WARRANTY OF ANY KIND, EXPRESS OR\n",
        "IMPLIED, INCLUDING BUT NOT LIMITED TO THE WARRANTIES OF MERCHANTABILITY,\n",
        "FITNESS FOR A PARTICULAR PURPOSE AND NONINFRINGEMENT. IN NO EVENT SHALL THE\n",
        "AUTHORS OR COPYRIGHT HOLDERS BE LIABLE FOR ANY CLAIM, DAMAGES OR OTHER\n",
        "LIABILITY, WHETHER IN AN ACTION OF CONTRACT, TORT OR OTHERWISE, ARISING FROM,\n",
        "OUT OF OR IN CONNECTION WITH THE SOFTWARE OR THE USE OR OTHER DEALINGS IN THE\n",
        "SOFTWARE."
      ]
    }
  ]
}